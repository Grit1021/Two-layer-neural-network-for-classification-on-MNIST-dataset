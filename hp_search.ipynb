{
 "cells": [
  {
   "attachments": {},
   "cell_type": "markdown",
   "metadata": {},
   "source": [
    "## Train the model\n"
   ]
  },
  {
   "cell_type": "code",
   "execution_count": 1,
   "metadata": {},
   "outputs": [],
   "source": [
    "#import data \n",
    "from Network import Network\n",
    "from matplotlib import pyplot as plt\n",
    "import pickle\n",
    "import gzip\n",
    "import numpy as np\n",
    "\n",
    "def load_data(path):\n",
    "    f = gzip.open(path, 'rb')\n",
    "    training_data, validation_data, test_data = pickle.load(f, encoding=\"latin1\")\n",
    "    f.close()\n",
    "    return (training_data, validation_data, test_data)\n",
    "    \n",
    "# customize your dataset path\n",
    "path = 'mnist.pkl.gz'\n",
    "training_data , validation_data , test_data = load_data(path)\n",
    "\n",
    "# training_data  : (50000 * 784, 50000)\n",
    "# validation_data: (10000 * 784, 10000)\n",
    "# test_data      : (10000 * 784, 10000)\n",
    "\n",
    "# dataset\n",
    "data_x = training_data[0]\n",
    "data_y = np.eye(10)[training_data[1]]\n",
    "valid_x = validation_data[0]\n",
    "valid_y = np.eye(10)[validation_data[1]]"
   ]
  },
  {
   "cell_type": "code",
   "execution_count": 2,
   "metadata": {},
   "outputs": [],
   "source": [
    "# set up a neural network\n",
    "np.random.seed(20230318)\n",
    "nn = Network([784,1000,10],['relu','sigmoid'], lr = 3e-2)\n",
    "\n",
    "# if you want to load your model, use the code here\n",
    "# nn = Network.load(r'mymodel.txt')"
   ]
  },
  {
   "cell_type": "code",
   "execution_count": 3,
   "metadata": {},
   "outputs": [
    {
     "name": "stderr",
     "output_type": "stream",
     "text": [
      "100%|██████████| 1250/1250 [00:09<00:00, 135.59it/s]\n",
      "100%|██████████| 1250/1250 [00:08<00:00, 139.12it/s]\n",
      "100%|██████████| 1250/1250 [00:09<00:00, 127.48it/s]\n",
      "100%|██████████| 1250/1250 [00:10<00:00, 118.86it/s]\n",
      "100%|██████████| 1250/1250 [00:09<00:00, 127.10it/s]\n",
      "100%|██████████| 1250/1250 [00:10<00:00, 124.54it/s]\n",
      "100%|██████████| 1250/1250 [00:09<00:00, 127.15it/s]\n",
      "100%|██████████| 1250/1250 [00:09<00:00, 125.90it/s]\n",
      "100%|██████████| 1250/1250 [00:09<00:00, 126.72it/s]\n",
      "100%|██████████| 1250/1250 [00:09<00:00, 125.77it/s]\n",
      "100%|██████████| 1250/1250 [00:10<00:00, 124.80it/s]\n",
      "100%|██████████| 1250/1250 [00:10<00:00, 121.35it/s]\n",
      "100%|██████████| 1250/1250 [00:10<00:00, 120.72it/s]\n",
      "100%|██████████| 1250/1250 [00:09<00:00, 129.21it/s]\n",
      "100%|██████████| 1250/1250 [00:10<00:00, 121.54it/s]\n",
      "100%|██████████| 1250/1250 [00:09<00:00, 133.46it/s]\n",
      "100%|██████████| 1250/1250 [00:09<00:00, 125.62it/s]\n",
      "100%|██████████| 1250/1250 [00:10<00:00, 113.76it/s]\n",
      "100%|██████████| 1250/1250 [00:09<00:00, 127.66it/s]\n",
      "100%|██████████| 1250/1250 [00:09<00:00, 125.49it/s]\n"
     ]
    }
   ],
   "source": [
    "# train the model\n",
    "result = nn.fit(data_x, data_y, epochs = 20, batch_size = 40, loss_func = 'MSE', \n",
    "                valid_x = valid_x, valid_y = valid_y, valid_freq = 1)"
   ]
  },
  {
   "attachments": {},
   "cell_type": "markdown",
   "metadata": {},
   "source": [
    "## Choose the hyperparameters"
   ]
  },
  {
   "cell_type": "code",
   "execution_count": 4,
   "metadata": {},
   "outputs": [
    {
     "name": "stdout",
     "output_type": "stream",
     "text": [
      "All acc = [0.9743, 0.9779, 0.9811, 0.9822, 0.9825, 0.9827, 0.9831, 0.9843]\n",
      "Best Size = 1000 \n",
      "Best Acc = 0.9843\n"
     ]
    }
   ],
   "source": [
    "#choose hidden layers\n",
    "from IPython.display import clear_output\n",
    "from time import sleep\n",
    "#hidden_sizes = [50, 200] \n",
    "hidden_sizes= [50, 100, 200, 500, 600, 700, 800, 1000]\n",
    "epochs = 15\n",
    "accuracies = []\n",
    "best = 0\n",
    "best_acc = 0\n",
    "for hidden_size in hidden_sizes:\n",
    "    print(f'Training hidden size = {hidden_size}')\n",
    "    sleep(0.25)\n",
    "    np.random.seed(20230318)\n",
    "    nn = Network([784,hidden_size,10],['relu','sigmoid'], lr = 3e-2)\n",
    "    result2 = nn.fit(data_x, data_y, epochs, 40, 'CE', valid_x, valid_y, 1)\n",
    "    accuracies.append(result2['acc'][-1])\n",
    "    if result2['acc'][-1] > best_acc:\n",
    "        best_acc = result2['acc'][-1]\n",
    "        best = hidden_size\n",
    "    clear_output(wait = True)\n",
    "    \n",
    "print('All acc =', accuracies)\n",
    "print('Best Size =', best, '\\nBest Acc =', best_acc)"
   ]
  },
  {
   "cell_type": "code",
   "execution_count": 5,
   "metadata": {},
   "outputs": [
    {
     "name": "stdout",
     "output_type": "stream",
     "text": [
      "All acc = [0.103, 0.103, 0.9825, 0.975, 0.9426, 0.8869]\n",
      "Best Lr = 0.03 \n",
      "Best Acc = 0.9825\n"
     ]
    }
   ],
   "source": [
    "#choose learning rate\n",
    "from IPython.display import clear_output\n",
    "from time import sleep\n",
    "#lrs = [3e-2, 3e-4] \n",
    "lrs = [3, 3e-1, 3e-2, 3e-3, 3e-4, 3e-5]\n",
    "epochs = 15\n",
    "accuracies = []\n",
    "best = 0\n",
    "best_acc = 0\n",
    "for lr in lrs:\n",
    "    print(f'Training learning rate = {lr}')\n",
    "    sleep(0.25)\n",
    "    np.random.seed(20230318)\n",
    "    nn = Network([784,600,10],['relu','sigmoid'], lr = lr)\n",
    "    result2 = nn.fit(data_x, data_y, epochs, 40, 'CE', valid_x, valid_y, 1)\n",
    "    accuracies.append(result2['acc'][-1])\n",
    "    if result2['acc'][-1] > best_acc:\n",
    "        best_acc = result2['acc'][-1]\n",
    "        best = lr\n",
    "    clear_output(wait = True)\n",
    "\n",
    "print('All acc =', accuracies)\n",
    "print('Best Lr =', best, '\\nBest Acc =', best_acc)"
   ]
  },
  {
   "cell_type": "code",
   "execution_count": 6,
   "metadata": {},
   "outputs": [
    {
     "name": "stdout",
     "output_type": "stream",
     "text": [
      "All acc = [0.103, 0.1038, 0.9693, 0.982, 0.9826, 0.9824, 0.9825]\n",
      "Best Reg = 1e-06 \n",
      "Best Acc = 0.9826\n"
     ]
    }
   ],
   "source": [
    "#choose the parameter for regularization\n",
    "from IPython.display import clear_output\n",
    "from time import sleep\n",
    "#regs = [1e-2, 1e-5] \n",
    "regs=[1e-2, 1e-3, 1e-4, 1e-5, 1e-6, 1e-7, 0]\n",
    "epochs = 15\n",
    "accuracies = []\n",
    "best = 0\n",
    "best_acc = 0\n",
    "for reg in regs:\n",
    "    print(f'Training regularization = {reg}')\n",
    "    sleep(0.25)\n",
    "    np.random.seed(20230318)\n",
    "    nn = Network([784,600,10],['relu','sigmoid'], lr = 3e-2, regws=[reg,reg])\n",
    "    result2 = nn.fit(data_x, data_y, epochs, 40, 'CE', valid_x, valid_y, 1)\n",
    "    accuracies.append(result2['acc'][-1])\n",
    "    if result2['acc'][-1] > best_acc:\n",
    "        best_acc = result2['acc'][-1]\n",
    "        best = reg\n",
    "    clear_output(wait = True)\n",
    "    \n",
    "print('All acc =', accuracies)\n",
    "print('Best Reg =', best, '\\nBest Acc =', best_acc)"
   ]
  },
  {
   "attachments": {},
   "cell_type": "markdown",
   "metadata": {},
   "source": [
    "## Test\n",
    "- Test our model with the dataset\n",
    "- Output the results(acc)\n"
   ]
  },
  {
   "cell_type": "code",
   "execution_count": 7,
   "metadata": {},
   "outputs": [],
   "source": [
    "# load the model(after training)\n",
    "nn = Network.load(r'mymodel.txt')"
   ]
  },
  {
   "cell_type": "code",
   "execution_count": 8,
   "metadata": {},
   "outputs": [
    {
     "name": "stdout",
     "output_type": "stream",
     "text": [
      "------------------------------\n",
      "Accuracy on Training Data\n"
     ]
    },
    {
     "name": "stderr",
     "output_type": "stream",
     "text": [
      "100%|██████████| 1250/1250 [00:02<00:00, 488.49it/s]\n"
     ]
    },
    {
     "name": "stdout",
     "output_type": "stream",
     "text": [
      "Acc = 49999/50000 = 99.998%\n",
      "------------------------------\n",
      "Accuracy on Validation Data\n"
     ]
    },
    {
     "name": "stderr",
     "output_type": "stream",
     "text": [
      "100%|██████████| 250/250 [00:00<00:00, 539.62it/s]\n"
     ]
    },
    {
     "name": "stdout",
     "output_type": "stream",
     "text": [
      "Acc = 9839/10000 = 98.39%\n",
      "------------------------------\n",
      "Accuracy on Testing Data\n"
     ]
    },
    {
     "name": "stderr",
     "output_type": "stream",
     "text": [
      "100%|██████████| 250/250 [00:00<00:00, 609.71it/s]"
     ]
    },
    {
     "name": "stdout",
     "output_type": "stream",
     "text": [
      "Acc = 9837/10000 = 98.37%\n"
     ]
    },
    {
     "name": "stderr",
     "output_type": "stream",
     "text": [
      "\n"
     ]
    }
   ],
   "source": [
    "from time import sleep \n",
    "print('-'*30 + '\\nAccuracy on Training Data')\n",
    "sleep(0.25)\n",
    "nn.predict(data_x, data_y)\n",
    "print('-'*30 + '\\nAccuracy on Validation Data')\n",
    "sleep(0.25)\n",
    "nn.predict(validation_data[0], np.eye(10)[validation_data[1]])\n",
    "print('-'*30 + '\\nAccuracy on Testing Data')\n",
    "sleep(0.25)\n",
    "nn.predict(test_data[0], np.eye(10)[test_data[1]])\n",
    "print(end = '')"
   ]
  },
  {
   "attachments": {},
   "cell_type": "markdown",
   "metadata": {},
   "source": [
    "## Failed cases"
   ]
  },
  {
   "cell_type": "code",
   "execution_count": 9,
   "metadata": {},
   "outputs": [
    {
     "name": "stderr",
     "output_type": "stream",
     "text": [
      "100%|██████████| 250/250 [00:00<00:00, 588.41it/s]"
     ]
    },
    {
     "name": "stdout",
     "output_type": "stream",
     "text": [
      "[ 115  119  247  321  340  445  449  583  619  659  684  720  740  947\n",
      "  951  956  965 1014 1039 1112 1192 1226 1232 1242 1247 1319 1328 1378\n",
      " 1393 1494 1500 1522 1530 1549 1609 1621 1678 1681 1790 1901 1941 1984\n",
      " 2004 2024 2035 2044 2053 2070 2098 2109 2118 2130 2135 2182 2185 2272\n",
      " 2369 2387 2406 2488 2597 2607 2648 2654 2810 2877 2896 2921 2939 2953\n",
      " 3073 3117 3384 3405 3422 3475 3503 3520 3558 3597 3727 3767 3780 3796\n",
      " 3808 3853 3893 3906 3941 3985 4000 4065 4078 4163 4176 4199 4201 4224\n",
      " 4248 4271 4289 4443 4497 4536 4601 4671 4807 4823 4879 4880 4966 5331\n",
      " 5457 5600 5642 5676 5734 5749 5936 5937 5955 5972 5973 6011 6023 6035\n",
      " 6045 6059 6173 6505 6532 6555 6571 6576 6597 6625 6651 6783 6847 7216\n",
      " 7434 8094 8246 8408 8527 9009 9015 9024 9280 9587 9634 9664 9679 9729\n",
      " 9745 9749 9768 9770 9779 9792 9839 9944 9982]\n"
     ]
    },
    {
     "name": "stderr",
     "output_type": "stream",
     "text": [
      "\n"
     ]
    }
   ],
   "source": [
    "def extract_failure(nn, x, y):\n",
    "    pred = nn.predict(x)\n",
    "    failure = np.where(y != pred)\n",
    "    return failure[0], pred[failure[0]], y[failure[0]]\n",
    "\n",
    "nn = Network.load(r'mymodel.txt')\n",
    "used_data = test_data  # try out training_data / validation_data / test_data\n",
    "failure = extract_failure(nn, used_data[0], used_data[1])\n",
    "print(failure[0]) # failed indices"
   ]
  },
  {
   "cell_type": "code",
   "execution_count": 10,
   "metadata": {},
   "outputs": [
    {
     "data": {
      "image/png": "[encoded data removed]",
      "text/plain": [
       "<Figure size 1200x900 with 12 Axes>"
      ]
     },
     "metadata": {},
     "output_type": "display_data"
    }
   ],
   "source": [
    "# a visualization of the failed cases\n",
    "plt.figure(figsize=(12,9))\n",
    "n = min(failure[0].size, 4)\n",
    "m , n = min(failure[0].size // n, 3), n\n",
    "for i in range(m):\n",
    "    for j in range(n):\n",
    "        k = i*n+j\n",
    "        plt.subplot(m,n,k+1)\n",
    "        plt.imshow(used_data[0][failure[0][k]].reshape((28,28)), cmap='gray')\n",
    "        plt.title(f'Pred {failure[1][k]}, Real {failure[2][k]}')\n",
    "plt.subplots_adjust(hspace=0.5)\n",
    "plt.show()"
   ]
  },
  {
   "attachments": {},
   "cell_type": "markdown",
   "metadata": {},
   "source": [
    "## Visualization\n"
   ]
  },
  {
   "cell_type": "code",
   "execution_count": 11,
   "metadata": {},
   "outputs": [
    {
     "name": "stderr",
     "output_type": "stream",
     "text": [
      "100%|██████████| 1250/1250 [00:10<00:00, 113.98it/s]\n"
     ]
    },
    {
     "name": "stdout",
     "output_type": "stream",
     "text": [
      "[0.966]\n"
     ]
    }
   ],
   "source": [
    "# control group without training\n",
    "np.random.seed(20230318)\n",
    "nn0 = Network([784,100,10],['relu','sigmoid'], lr = 3e-2)\n",
    "\n",
    "# control group with only 1 epoch\n",
    "np.random.seed(20230318)\n",
    "nn1 = Network([784,1000,10],['relu','sigmoid'], lr = 3e-2)\n",
    "result1 = nn1.fit(data_x, data_y, epochs = 1, batch_size = 40, loss_func = 'CE', \n",
    "                valid_x = valid_x, valid_y = valid_y, valid_freq = 1)\n",
    "print(result1['acc'])"
   ]
  },
  {
   "cell_type": "code",
   "execution_count": 12,
   "metadata": {},
   "outputs": [],
   "source": [
    "# load your model\n",
    "nn = Network.load(r'mymodel.txt')"
   ]
  },
  {
   "cell_type": "code",
   "execution_count": 13,
   "metadata": {},
   "outputs": [
    {
     "data": {
      "image/png": "[encoded data removed]",
      "text/plain": [
       "<Figure size 1200x900 with 3 Axes>"
      ]
     },
     "metadata": {},
     "output_type": "display_data"
    }
   ],
   "source": [
    "from sklearn.decomposition import PCA \n",
    "\n",
    "def nnPCA(nn, affine = False):\n",
    "    '''Visualize the first layer of a network by PCA'''\n",
    "    center_x = nn.weights[0].copy()# - np.mean(nn.weights[0])\n",
    "    pca = PCA(n_components=3)\n",
    "    PCA_X = pca.fit_transform(center_x)\n",
    "    if affine:\n",
    "        minimum, maximum = np.min(PCA_X), np.max(PCA_X)\n",
    "        PCA_X = (PCA_X - minimum) * (1. / (maximum - minimum))\n",
    "    else:\n",
    "        PCA_X = np.clip(PCA_X, -1., 1.) * .5 + .5\n",
    "    \n",
    "    # to 28*28*3 RGB\n",
    "    return PCA_X.reshape((28,28,3))\n",
    "    \n",
    "\n",
    "plt.figure(figsize = (12,9))\n",
    "names = ['Initial','1 epoch','Final']\n",
    "for i , network in enumerate([nn0, nn1, nn]):\n",
    "    plt.subplot(1, 3, i+1)\n",
    "    plt.imshow(nnPCA(network, affine = False))\n",
    "    plt.title(names[i])\n",
    "plt.show()\n"
   ]
  }
 ],
 "metadata": {
  "kernelspec": {
   "display_name": "base",
   "language": "python",
   "name": "python3"
  },
  "language_info": {
   "codemirror_mode": {
    "name": "ipython",
    "version": 3
   },
   "file_extension": ".py",
   "mimetype": "text/x-python",
   "name": "python",
   "nbconvert_exporter": "python",
   "pygments_lexer": "ipython3",
   "version": "3.9.13"
  },
  "orig_nbformat": 4
 },
 "nbformat": 4,
 "nbformat_minor": 2
}
